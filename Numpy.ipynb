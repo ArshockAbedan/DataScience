{
  "nbformat": 4,
  "nbformat_minor": 0,
  "metadata": {
    "colab": {
      "name": "Numpy.ipynb",
      "provenance": [],
      "collapsed_sections": [],
      "authorship_tag": "ABX9TyOVdCimtimFJCBuKL2NFDnB",
      "include_colab_link": true
    },
    "kernelspec": {
      "name": "python3",
      "display_name": "Python 3"
    }
  },
  "cells": [
    {
      "cell_type": "markdown",
      "metadata": {
        "id": "view-in-github",
        "colab_type": "text"
      },
      "source": [
        "<a href=\"https://colab.research.google.com/github/ArshockAbedan/DataScience/blob/main/Numpy.ipynb\" target=\"_parent\"><img src=\"https://colab.research.google.com/assets/colab-badge.svg\" alt=\"Open In Colab\"/></a>"
      ]
    },
    {
      "cell_type": "markdown",
      "metadata": {
        "id": "larKcqMxU9Sk"
      },
      "source": [
        "# Introduction to Numpy"
      ]
    },
    {
      "cell_type": "code",
      "metadata": {
        "id": "2orQ99AFUsfX"
      },
      "source": [
        "import numpy as np"
      ],
      "execution_count": 1,
      "outputs": []
    },
    {
      "cell_type": "markdown",
      "metadata": {
        "id": "_mocfnXFVK-M"
      },
      "source": [
        "1- ndarray"
      ]
    },
    {
      "cell_type": "code",
      "metadata": {
        "colab": {
          "base_uri": "https://localhost:8080/"
        },
        "id": "dCJtYXNrVJAY",
        "outputId": "33850ba3-4824-4248-d99d-c7b33fb40b71"
      },
      "source": [
        "# 1-dimentional array (Vector)\n",
        "oneDim = np.array([1,2.0,3,4,5]) \n",
        "print(oneDim)\n",
        "print(\"#Dimentions = \", oneDim.ndim)\n",
        "print(\"Dimention = \", oneDim.shape)\n",
        "print(\"Size = \", oneDim.size)\n",
        "print(\"Array type = \", oneDim.dtype)"
      ],
      "execution_count": null,
      "outputs": [
        {
          "output_type": "stream",
          "text": [
            "[1. 2. 3. 4. 5.]\n",
            "#Dimentions =  1\n",
            "Dimention =  (5,)\n",
            "Size =  5\n",
            "Array type =  float64\n"
          ],
          "name": "stdout"
        }
      ]
    },
    {
      "cell_type": "code",
      "metadata": {
        "colab": {
          "base_uri": "https://localhost:8080/"
        },
        "id": "a11i0AGxVFJV",
        "outputId": "39260c84-eaab-4ef5-d37e-bc5d25c0f490"
      },
      "source": [
        "# 2-dimentional array (matrix)\n",
        "twoDim = np.array([[1,2],[3,4],[5,6],[7,8]])\n",
        "print(twoDim)\n",
        "print(\"#Dimentions = \", twoDim.ndim)\n",
        "print(\"Dimention = \", twoDim.shape)\n",
        "print(\"Size = \", twoDim.size)\n",
        "print(\"Array type = \", twoDim.dtype)"
      ],
      "execution_count": null,
      "outputs": [
        {
          "output_type": "stream",
          "text": [
            "[[1 2]\n",
            " [3 4]\n",
            " [5 6]\n",
            " [7 8]]\n",
            "#Dimentions =  2\n",
            "Dimention =  (4, 2)\n",
            "Size =  8\n",
            "Array type =  int64\n"
          ],
          "name": "stdout"
        }
      ]
    },
    {
      "cell_type": "code",
      "metadata": {
        "colab": {
          "base_uri": "https://localhost:8080/"
        },
        "id": "aPqPYMnBWtFo",
        "outputId": "d4362fbf-798c-4534-fbbb-eb4e9120b1d3"
      },
      "source": [
        " # create ndarray from tuple\n",
        "arrFromTuple = np.array([(1,'a',3.0),(2,'b',3.5)]) \n",
        "print(arrFromTuple)\n",
        "print(\"#Dimensions =\", arrFromTuple.ndim)\n",
        "print(\"Dimension =\", arrFromTuple.shape)\n",
        "print(\"Size =\", arrFromTuple.size)"
      ],
      "execution_count": null,
      "outputs": [
        {
          "output_type": "stream",
          "text": [
            "[['1' 'a' '3.0']\n",
            " ['2' 'b' '3.5']]\n",
            "#Dimensions = 2\n",
            "Dimension = (2, 3)\n",
            "Size = 6\n"
          ],
          "name": "stdout"
        }
      ]
    },
    {
      "cell_type": "markdown",
      "metadata": {
        "id": "0SaamzqwXIuR"
      },
      "source": [
        "There are several built-in functions in numpy that can be used to create ndarrays"
      ]
    },
    {
      "cell_type": "code",
      "metadata": {
        "colab": {
          "base_uri": "https://localhost:8080/"
        },
        "id": "qYJc3hN-W5ua",
        "outputId": "668178d0-ddc8-45d4-fa53-54f9ba30c970"
      },
      "source": [
        "# random numbers from a uniform distribution between [0,1]\n",
        "print(np.random.rand(5))"
      ],
      "execution_count": null,
      "outputs": [
        {
          "output_type": "stream",
          "text": [
            "[0.45546452 0.92777663 0.23799251 0.18036565 0.76443055]\n"
          ],
          "name": "stdout"
        }
      ]
    },
    {
      "cell_type": "code",
      "metadata": {
        "colab": {
          "base_uri": "https://localhost:8080/"
        },
        "id": "e1s0_ebnXR-V",
        "outputId": "5c304d57-e58a-417c-e273-0fca1436c511"
      },
      "source": [
        "# random numbers from a normal distribution\n",
        "print(np.random.randn(5))"
      ],
      "execution_count": null,
      "outputs": [
        {
          "output_type": "stream",
          "text": [
            "[ 0.01741878 -1.55969252 -1.92248774 -0.73226126 -0.17431855]\n"
          ],
          "name": "stdout"
        }
      ]
    },
    {
      "cell_type": "code",
      "metadata": {
        "colab": {
          "base_uri": "https://localhost:8080/"
        },
        "id": "K9e2HaBTXXb-",
        "outputId": "dea8fbe2-552c-429a-ffac-d048a70d82bf"
      },
      "source": [
        "# arrange is similar to range, but returns ndarray instead of list\n",
        "print(np.arange(-10,10,2))"
      ],
      "execution_count": null,
      "outputs": [
        {
          "output_type": "stream",
          "text": [
            "[-10  -8  -6  -4  -2   0   2   4   6   8]\n"
          ],
          "name": "stdout"
        }
      ]
    },
    {
      "cell_type": "code",
      "metadata": {
        "colab": {
          "base_uri": "https://localhost:8080/"
        },
        "id": "CbWpzrd-XqpR",
        "outputId": "7df8fe62-8120-4f4d-fb0d-8fe4b4bcc263"
      },
      "source": [
        "# reshape to a matrix\n",
        "print(np.arange(12).reshape(3,4))"
      ],
      "execution_count": null,
      "outputs": [
        {
          "output_type": "stream",
          "text": [
            "[[ 0  1  2  3]\n",
            " [ 4  5  6  7]\n",
            " [ 8  9 10 11]]\n"
          ],
          "name": "stdout"
        }
      ]
    },
    {
      "cell_type": "code",
      "metadata": {
        "colab": {
          "base_uri": "https://localhost:8080/"
        },
        "id": "GL8sglv6Xz-Z",
        "outputId": "4ca2b8ed-2aaf-405d-aa92-6443e602c825"
      },
      "source": [
        "# split interval [0,1] into 10 equally separated values\n",
        "print(np.linspace(0,1,10))"
      ],
      "execution_count": null,
      "outputs": [
        {
          "output_type": "stream",
          "text": [
            "[0.         0.11111111 0.22222222 0.33333333 0.44444444 0.55555556\n",
            " 0.66666667 0.77777778 0.88888889 1.        ]\n"
          ],
          "name": "stdout"
        }
      ]
    },
    {
      "cell_type": "code",
      "metadata": {
        "colab": {
          "base_uri": "https://localhost:8080/"
        },
        "id": "Njq2vt61X8da",
        "outputId": "d51f25b9-a517-4e4d-90da-eb2ede5897f4"
      },
      "source": [
        "# create ndarray with values from 10^-3 to 10^3\n",
        "print(np.logspace(-3,3,7))"
      ],
      "execution_count": null,
      "outputs": [
        {
          "output_type": "stream",
          "text": [
            "[1.e-03 1.e-02 1.e-01 1.e+00 1.e+01 1.e+02 1.e+03]\n"
          ],
          "name": "stdout"
        }
      ]
    },
    {
      "cell_type": "code",
      "metadata": {
        "colab": {
          "base_uri": "https://localhost:8080/"
        },
        "id": "wA2V3TU5YGJk",
        "outputId": "66556c54-1d01-42e7-d21a-8ccfc21d0664"
      },
      "source": [
        "# a matrix of zeros\n",
        "print(np.zeros((4,3)))"
      ],
      "execution_count": null,
      "outputs": [
        {
          "output_type": "stream",
          "text": [
            "[[0. 0. 0.]\n",
            " [0. 0. 0.]\n",
            " [0. 0. 0.]\n",
            " [0. 0. 0.]]\n"
          ],
          "name": "stdout"
        }
      ]
    },
    {
      "cell_type": "code",
      "metadata": {
        "colab": {
          "base_uri": "https://localhost:8080/"
        },
        "id": "x3n9E_KdYLUf",
        "outputId": "0db930af-e2f3-4755-ae9c-9bc3ecba5072"
      },
      "source": [
        "# a matrix of ones\n",
        "print(np.ones((2,3)))"
      ],
      "execution_count": null,
      "outputs": [
        {
          "output_type": "stream",
          "text": [
            "[[1. 1. 1.]\n",
            " [1. 1. 1.]]\n"
          ],
          "name": "stdout"
        }
      ]
    },
    {
      "cell_type": "code",
      "metadata": {
        "colab": {
          "base_uri": "https://localhost:8080/"
        },
        "id": "phhe2XvOYXjW",
        "outputId": "17ea7b40-1b4f-453d-c960-acec352e0a7d"
      },
      "source": [
        "# a 3 x 3 identity matrix\n",
        "print(np.eye(3))"
      ],
      "execution_count": null,
      "outputs": [
        {
          "output_type": "stream",
          "text": [
            "[[1. 0. 0.]\n",
            " [0. 1. 0.]\n",
            " [0. 0. 1.]]\n"
          ],
          "name": "stdout"
        }
      ]
    },
    {
      "cell_type": "markdown",
      "metadata": {
        "id": "ExqlWSzIYhdp"
      },
      "source": [
        "2- Element-wise Operations"
      ]
    },
    {
      "cell_type": "code",
      "metadata": {
        "colab": {
          "base_uri": "https://localhost:8080/"
        },
        "id": "mCrprnlQYboO",
        "outputId": "0850769a-c499-4aeb-9844-ea7564b9ebdd"
      },
      "source": [
        "x = np.array([1,2,3,4,5])\n",
        "\n",
        "print(x + 1)      # addition\n",
        "print(x - 1)      # subtraction\n",
        "print(x * 2)      # multiplication\n",
        "print(x // 2)     # integer division\n",
        "print(x ** 2)     # square\n",
        "print(x % 2)      # modulo  \n",
        "print(1 / x)      # division"
      ],
      "execution_count": null,
      "outputs": [
        {
          "output_type": "stream",
          "text": [
            "[2 3 4 5 6]\n",
            "[0 1 2 3 4]\n",
            "[ 2  4  6  8 10]\n",
            "[0 1 1 2 2]\n",
            "[ 1  4  9 16 25]\n",
            "[1 0 1 0 1]\n",
            "[1.         0.5        0.33333333 0.25       0.2       ]\n"
          ],
          "name": "stdout"
        }
      ]
    },
    {
      "cell_type": "code",
      "metadata": {
        "colab": {
          "base_uri": "https://localhost:8080/"
        },
        "id": "nunatFz7YoOA",
        "outputId": "7cc38231-92dd-41bd-ddb3-b94d6ed82c28"
      },
      "source": [
        "x = np.array([2,4,6,8,10])\n",
        "y = np.array([1,2,3,4,5])\n",
        "\n",
        "print(x + y)\n",
        "print(x - y)\n",
        "print(x * y)\n",
        "print(x / y)\n",
        "print(x // y)\n",
        "print(x ** y)"
      ],
      "execution_count": null,
      "outputs": [
        {
          "output_type": "stream",
          "text": [
            "[ 3  6  9 12 15]\n",
            "[1 2 3 4 5]\n",
            "[ 2  8 18 32 50]\n",
            "[2. 2. 2. 2. 2.]\n",
            "[2 2 2 2 2]\n",
            "[     2     16    216   4096 100000]\n"
          ],
          "name": "stdout"
        }
      ]
    },
    {
      "cell_type": "markdown",
      "metadata": {
        "id": "138qxhjUY3BH"
      },
      "source": [
        "**3- Indexing and Slicing**"
      ]
    },
    {
      "cell_type": "code",
      "metadata": {
        "colab": {
          "base_uri": "https://localhost:8080/"
        },
        "id": "CUloROIUYvnh",
        "outputId": "83cdaf7c-82cb-460b-8cde-85f345092784"
      },
      "source": [
        "x = np.arange(-5,5)\n",
        "print(x)"
      ],
      "execution_count": null,
      "outputs": [
        {
          "output_type": "stream",
          "text": [
            "[-5 -4 -3 -2 -1  0  1  2  3  4]\n"
          ],
          "name": "stdout"
        }
      ]
    },
    {
      "cell_type": "code",
      "metadata": {
        "colab": {
          "base_uri": "https://localhost:8080/"
        },
        "id": "JOk3feCyZBzz",
        "outputId": "3d195369-c807-4e58-efd7-46ed8af500aa"
      },
      "source": [
        "y = x[3:5] # y is a slice, i.e., pointer to a subarray in x\n",
        "print(y)"
      ],
      "execution_count": null,
      "outputs": [
        {
          "output_type": "stream",
          "text": [
            "[-2 -1]\n"
          ],
          "name": "stdout"
        }
      ]
    },
    {
      "cell_type": "code",
      "metadata": {
        "colab": {
          "base_uri": "https://localhost:8080/"
        },
        "id": "kKdv7MYiZJ08",
        "outputId": "d5c421ff-b95d-4a92-a1bc-9fa58b9a266a"
      },
      "source": [
        "# modifying the value of y will change x\n",
        "y[:] = 1000\n",
        "print(x)\n",
        "print(y)"
      ],
      "execution_count": null,
      "outputs": [
        {
          "output_type": "stream",
          "text": [
            "[  -5   -4   -3 1000 1000    0    1    2    3    4]\n",
            "[1000 1000]\n"
          ],
          "name": "stdout"
        }
      ]
    },
    {
      "cell_type": "code",
      "metadata": {
        "colab": {
          "base_uri": "https://localhost:8080/"
        },
        "id": "G6YeS4ovZYCU",
        "outputId": "4b75b2ed-a80d-46e0-e8c3-444f36902289"
      },
      "source": [
        "# makes a copy of the subarray\n",
        "z = x[3:5].copy()\n",
        "print(z)"
      ],
      "execution_count": null,
      "outputs": [
        {
          "output_type": "stream",
          "text": [
            "[1000 1000]\n"
          ],
          "name": "stdout"
        }
      ]
    },
    {
      "cell_type": "code",
      "metadata": {
        "colab": {
          "base_uri": "https://localhost:8080/"
        },
        "id": "Ue0YVyEZZk93",
        "outputId": "3769859c-325a-4089-fd70-d6fce323fddf"
      },
      "source": [
        "# modifying the value of z will not affect x\n",
        "z[:] = 500\n",
        "print(x)\n",
        "print(z)"
      ],
      "execution_count": null,
      "outputs": [
        {
          "output_type": "stream",
          "text": [
            "[  -5   -4   -3 1000 1000    0    1    2    3    4]\n",
            "[500 500]\n"
          ],
          "name": "stdout"
        }
      ]
    },
    {
      "cell_type": "code",
      "metadata": {
        "colab": {
          "base_uri": "https://localhost:8080/"
        },
        "id": "qpuCIajQZv8p",
        "outputId": "5315c2f0-deff-436b-865e-f2639e4dc2f3"
      },
      "source": [
        "#\n",
        "# a 2-dim list\n",
        "#\n",
        "my2dlist = [[1,2,3,4],[5,6,7,8],[9,10,11,12]]   \n",
        "print(my2dlist)\n",
        "print(my2dlist[2])        # access the third sublist\n",
        "print(my2dlist[:][2])     # can't access third element of each sublist\n",
        "# print(my2dlist[:,2])    # this will cause syntax error"
      ],
      "execution_count": null,
      "outputs": [
        {
          "output_type": "stream",
          "text": [
            "[[1, 2, 3, 4], [5, 6, 7, 8], [9, 10, 11, 12]]\n",
            "[9, 10, 11, 12]\n",
            "[9, 10, 11, 12]\n"
          ],
          "name": "stdout"
        }
      ]
    },
    {
      "cell_type": "code",
      "metadata": {
        "colab": {
          "base_uri": "https://localhost:8080/"
        },
        "id": "LW4qNGx8Z6Cr",
        "outputId": "1c028288-7502-4f3a-c91b-3e1c45d81c9a"
      },
      "source": [
        "my2darr = np.array(my2dlist)\n",
        "print(my2darr)\n",
        "\n",
        "print(\"===============\")\n",
        "# access the third row\n",
        "print(my2darr[2][:])  \n",
        "\n",
        "print(\"===============\")\n",
        "# access the third row\n",
        "print(my2darr[2,:]) \n",
        "\n",
        "print(\"===============\")\n",
        "# access the third row (similar to 2d list)      \n",
        "print(my2darr[:][2]) \n",
        "\n",
        "print(\"===============\")\n",
        "# access the third column    \n",
        "print(my2darr[:,2])  \n",
        "\n",
        "print(\"===============\")\n",
        "# access the first two rows & last two columns\n",
        "print(my2darr[:2,2:])     "
      ],
      "execution_count": null,
      "outputs": [
        {
          "output_type": "stream",
          "text": [
            "[[ 1  2  3  4]\n",
            " [ 5  6  7  8]\n",
            " [ 9 10 11 12]]\n",
            "===============\n",
            "[ 9 10 11 12]\n",
            "===============\n",
            "[ 9 10 11 12]\n",
            "===============\n",
            "[ 9 10 11 12]\n",
            "===============\n",
            "[ 3  7 11]\n",
            "===============\n",
            "[[3 4]\n",
            " [7 8]]\n"
          ],
          "name": "stdout"
        }
      ]
    },
    {
      "cell_type": "markdown",
      "metadata": {
        "id": "8mo_9LpdTlaZ"
      },
      "source": [
        "ndarray also supports boolean indexing."
      ]
    },
    {
      "cell_type": "code",
      "metadata": {
        "id": "-FCdMbZaaizj",
        "colab": {
          "base_uri": "https://localhost:8080/"
        },
        "outputId": "526f3168-e8b0-44f1-9811-9e5d2dbfb0cd"
      },
      "source": [
        "my2array = np.arange(1,13,1).reshape(3,4)\n",
        "print(my2array)"
      ],
      "execution_count": 3,
      "outputs": [
        {
          "output_type": "stream",
          "text": [
            "[[ 1  2  3  4]\n",
            " [ 5  6  7  8]\n",
            " [ 9 10 11 12]]\n"
          ],
          "name": "stdout"
        }
      ]
    },
    {
      "cell_type": "code",
      "metadata": {
        "colab": {
          "base_uri": "https://localhost:8080/"
        },
        "id": "ARed52dHTwIO",
        "outputId": "26d59fb5-4e4a-4e31-f5b3-779a85a02a71"
      },
      "source": [
        "divBy3 = my2array[my2array % 3 == 0]\n",
        "print(divBy3)"
      ],
      "execution_count": 4,
      "outputs": [
        {
          "output_type": "stream",
          "text": [
            "[ 3  6  9 12]\n"
          ],
          "name": "stdout"
        }
      ]
    },
    {
      "cell_type": "code",
      "metadata": {
        "colab": {
          "base_uri": "https://localhost:8080/"
        },
        "id": "vBzbugw0T_-3",
        "outputId": "2b29c7f4-6efa-4f1a-bf3f-acaefd6651c1"
      },
      "source": [
        "divBy3LastRow = my2array[2,my2array[2,:] % 3 ==0]\n",
        "print(divBy3LastRow)"
      ],
      "execution_count": 15,
      "outputs": [
        {
          "output_type": "stream",
          "text": [
            "[ 9 12]\n"
          ],
          "name": "stdout"
        }
      ]
    },
    {
      "cell_type": "code",
      "metadata": {
        "colab": {
          "base_uri": "https://localhost:8080/"
        },
        "id": "HfKaZo4FUfwP",
        "outputId": "921e89a9-d9f9-42d3-9d06-a659fe8874e4"
      },
      "source": [
        "my2darr = np.arange(1,13,1).reshape(4,3)\n",
        "print(my2darr)"
      ],
      "execution_count": 18,
      "outputs": [
        {
          "output_type": "stream",
          "text": [
            "[[ 1  2  3]\n",
            " [ 4  5  6]\n",
            " [ 7  8  9]\n",
            " [10 11 12]]\n"
          ],
          "name": "stdout"
        }
      ]
    },
    {
      "cell_type": "code",
      "metadata": {
        "colab": {
          "base_uri": "https://localhost:8080/"
        },
        "id": "D0Yih1_MVXph",
        "outputId": "89cb8c4e-418a-473e-ae1a-016dbbe42ac7"
      },
      "source": [
        "# selected row indices\n",
        "indeces = [2,1,3,0]\n",
        "print(my2darr[indeces,:])"
      ],
      "execution_count": 20,
      "outputs": [
        {
          "output_type": "stream",
          "text": [
            "[[ 7  8  9]\n",
            " [ 4  5  6]\n",
            " [10 11 12]\n",
            " [ 1  2  3]]\n"
          ],
          "name": "stdout"
        }
      ]
    },
    {
      "cell_type": "code",
      "metadata": {
        "colab": {
          "base_uri": "https://localhost:8080/"
        },
        "id": "ACq2Bq-VVwpw",
        "outputId": "1e2b28d8-67a4-428c-8743-a4ffc3000e48"
      },
      "source": [
        "# row index into my2darr\n",
        "rowIndex = [0,0,1,2,3]\n",
        "\n",
        "# column index into my2darr\n",
        "columnIndex = [0,2,0,1,2]\n",
        "\n",
        "print(my2darr[rowIndex,columnIndex])"
      ],
      "execution_count": 21,
      "outputs": [
        {
          "output_type": "stream",
          "text": [
            "[ 1  3  4  8 12]\n"
          ],
          "name": "stdout"
        }
      ]
    },
    {
      "cell_type": "markdown",
      "metadata": {
        "id": "ID1a49gbWs_x"
      },
      "source": [
        "***4- Numpy Arithmetic and Statistical Functions***"
      ]
    },
    {
      "cell_type": "code",
      "metadata": {
        "colab": {
          "base_uri": "https://localhost:8080/"
        },
        "id": "zzl2uNDjWVBm",
        "outputId": "356ca64d-f2d0-40bc-b041-8422485c4dc8"
      },
      "source": [
        "y = np.array([-1.4, 0.4, -3.2, 2.5, 3.4])\n",
        "print(y)"
      ],
      "execution_count": 22,
      "outputs": [
        {
          "output_type": "stream",
          "text": [
            "[-1.4  0.4 -3.2  2.5  3.4]\n"
          ],
          "name": "stdout"
        }
      ]
    },
    {
      "cell_type": "code",
      "metadata": {
        "colab": {
          "base_uri": "https://localhost:8080/"
        },
        "id": "JFn9HmrJXYaQ",
        "outputId": "565002c4-0720-4d88-8a99-0425b1fe2185"
      },
      "source": [
        "print(np.abs(y))          # convert to absolute values\n",
        "print(np.sqrt(abs(y)))    # apply square root to each element\n",
        "print(np.sign(y))         # get the sign of each element\n",
        "print(np.exp(y))          # apply exponentiation\n",
        "print(np.sort(y))         # sort array"
      ],
      "execution_count": 23,
      "outputs": [
        {
          "output_type": "stream",
          "text": [
            "[1.4 0.4 3.2 2.5 3.4]\n",
            "[1.18321596 0.63245553 1.78885438 1.58113883 1.84390889]\n",
            "[-1.  1. -1.  1.  1.]\n",
            "[ 0.24659696  1.4918247   0.0407622  12.18249396 29.96410005]\n",
            "[-3.2 -1.4  0.4  2.5  3.4]\n"
          ],
          "name": "stdout"
        }
      ]
    },
    {
      "cell_type": "code",
      "metadata": {
        "colab": {
          "base_uri": "https://localhost:8080/"
        },
        "id": "9yQzAOMPXeGb",
        "outputId": "9b955e8c-af04-4f56-ce5c-9b684c7b7221"
      },
      "source": [
        "x = np.arange(-2,3)\n",
        "y = np.random.rand(5)\n",
        "print(x)\n",
        "print(y)"
      ],
      "execution_count": 24,
      "outputs": [
        {
          "output_type": "stream",
          "text": [
            "[-2 -1  0  1  2]\n",
            "[0.61580856 0.6888702  0.23284477 0.74008042 0.17062493]\n"
          ],
          "name": "stdout"
        }
      ]
    },
    {
      "cell_type": "code",
      "metadata": {
        "colab": {
          "base_uri": "https://localhost:8080/"
        },
        "id": "i3S4NWVUXwzk",
        "outputId": "3126dc7f-8a79-4222-bc79-ce23c07f54c7"
      },
      "source": [
        "# element-wise addition       x + y\n",
        "print(np.add(x,y))   \n",
        "\n",
        "# element-wise subtraction    x - y\n",
        "print(np.subtract(x,y)) \n",
        "\n",
        "# element-wise multiplication x * y\n",
        "print(np.multiply(x,y)) \n",
        "\n",
        "# element-wise division       x / y\n",
        "print(np.divide(x,y)) \n",
        "\n",
        "# element-wise maximum        max(x,y)\n",
        "print(np.maximum(x,y))       "
      ],
      "execution_count": 27,
      "outputs": [
        {
          "output_type": "stream",
          "text": [
            "[-5.2 -2.4  0.4  3.5  5.4]\n",
            "[ 1.2  0.4 -0.4 -1.5 -1.4]\n",
            "[6.4 1.4 0.  2.5 6.8]\n",
            "[0.625      0.71428571 0.         0.4        0.58823529]\n",
            "[-2.  -1.   0.4  2.5  3.4]\n"
          ],
          "name": "stdout"
        }
      ]
    },
    {
      "cell_type": "code",
      "metadata": {
        "colab": {
          "base_uri": "https://localhost:8080/"
        },
        "id": "RU6T9ZDYX2rb",
        "outputId": "c63abb91-f49b-41fb-805f-e6c3ece79b90"
      },
      "source": [
        "# generate a random vector\n",
        "y = np.array([-3.2, -1.4, 0.4, 2.5, 3.4])   \n",
        "print(y)\n",
        "\n",
        "# min \n",
        "print(\"Min =\", np.min(y)) \n",
        "\n",
        "# max \n",
        "print(\"Max =\", np.max(y))   \n",
        "\n",
        "# mean/average\n",
        "print(\"Average =\", np.mean(y))  \n",
        "\n",
        "# standard deviation\n",
        "print(\"Std deviation =\", np.std(y))  \n",
        "\n",
        "# sum \n",
        "print(\"Sum =\", np.sum(y))"
      ],
      "execution_count": 26,
      "outputs": [
        {
          "output_type": "stream",
          "text": [
            "[-3.2 -1.4  0.4  2.5  3.4]\n",
            "Min = -3.2\n",
            "Max = 3.4\n",
            "Average = 0.34000000000000014\n",
            "Std deviation = 2.432776191925595\n",
            "Sum = 1.7000000000000006\n"
          ],
          "name": "stdout"
        }
      ]
    },
    {
      "cell_type": "code",
      "metadata": {
        "id": "pKDKzKxuYFuD"
      },
      "source": [
        ""
      ],
      "execution_count": null,
      "outputs": []
    }
  ]
}